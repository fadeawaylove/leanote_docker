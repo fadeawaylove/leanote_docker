{
 "cells": [
  {
   "cell_type": "code",
   "execution_count": 3,
   "metadata": {},
   "outputs": [],
   "source": [
    "import numpy as np\n",
    "import matplotlib.pyplot as plt\n",
    "from pylab import mpl\n",
    "\n",
    "plt.rcParams[\"font.sans-serif\"] = [\"Simhei\"]\n",
    "mpl.rcParams[\"axes.unicode_minus\"] = False"
   ]
  },
  {
   "cell_type": "code",
   "execution_count": 4,
   "metadata": {},
   "outputs": [],
   "source": [
    "x_data = [338., 333., 328., 207., 226., 25., 179., 60., 208., 606.]\n",
    "y_data = [640., 633., 619., 393., 428., 27., 193., 66., 226., 1591.]\n",
    "x_d = np.asarray(x_data)\n",
    "y_d = np.asarray(y_data)"
   ]
  },
  {
   "cell_type": "code",
   "execution_count": 5,
   "metadata": {},
   "outputs": [],
   "source": [
    "x= np.arange(-200, -100, 1)\n",
    "y = np.arange(-5, 5, 0.1)\n",
    "Z = np.zeros((len(x),len(y)))\n",
    "X, Y = np.meshgrid(x,y)"
   ]
  },
  {
   "cell_type": "code",
   "execution_count": 6,
   "metadata": {},
   "outputs": [],
   "source": [
    "for i in range(len(x)):\n",
    "    for j in range(len(y)):\n",
    "        b = x[i]\n",
    "        w = y[j]\n",
    "        Z[j][i] = 0\n",
    "        for n in range(len(x_data)):\n",
    "            Z[j][i] += (y_data[n] - b - w * x_data[n]) ** 2\n",
    "        Z[j][i] /= len(x_data)"
   ]
  },
  {
   "cell_type": "code",
   "execution_count": 12,
   "metadata": {},
   "outputs": [
    {
     "name": "stdout",
     "output_type": "stream",
     "text": [
      "Step 0, w: 1.6534, b: -119.9839, Loss: 3670819.0000\n",
      "Step 10000, w: 2.4781, b: -121.8628, Loss: 11428.6652\n",
      "Step 20000, w: 2.4834, b: -123.6924, Loss: 11361.7161\n",
      "Step 30000, w: 2.4885, b: -125.4716, Loss: 11298.3964\n",
      "Step 40000, w: 2.4935, b: -127.2020, Loss: 11238.5092\n",
      "Step 50000, w: 2.4983, b: -128.8848, Loss: 11181.8685\n",
      "Step 60000, w: 2.5030, b: -130.5213, Loss: 11128.2983\n",
      "Step 70000, w: 2.5076, b: -132.1129, Loss: 11077.6321\n",
      "Step 80000, w: 2.5120, b: -133.6607, Loss: 11029.7126\n",
      "Step 90000, w: 2.5164, b: -135.1660, Loss: 10984.3908\n",
      "大约需要时间： 1.4079995155334473\n"
     ]
    }
   ],
   "source": [
    "b = -120\n",
    "w = -4\n",
    "lr = 0.000005\n",
    "iteration = 100000\n",
    "\n",
    "b_history = [b]\n",
    "w_history = [w]\n",
    "loss_history = []\n",
    "import time\n",
    "start = time.time()\n",
    "for i in range(iteration):\n",
    "    m = float(len(x_d))\n",
    "    y_hat = w * x_d + b\n",
    "    loss = np.dot(y_d - y_hat, y_d - y_hat)/m\n",
    "    grad_b = -2.0 * np.sum(y_d - y_hat) / m\n",
    "    grad_w = -2.0 * np.dot(y_d - y_hat, x_d) / m\n",
    "    b -= lr * grad_b\n",
    "    w -= lr * grad_w\n",
    "    \n",
    "    b_history.append(b)\n",
    "    w_history.append(w)\n",
    "    loss_history.append(loss)\n",
    "    if i % 10000 == 0:\n",
    "        print(\"Step %i, w: %0.4f, b: %.4f, Loss: %.4f\" % (i, w, b, loss))\n",
    "end = time.time()\n",
    "print(\"大约需要时间：\", end-start)"
   ]
  },
  {
   "cell_type": "code",
   "execution_count": 13,
   "metadata": {},
   "outputs": [
    {
     "data": {
      "image/png": "[encoded data removed]",
      "text/plain": [
       "<Figure size 432x288 with 1 Axes>"
      ]
     },
     "metadata": {
      "needs_background": "light"
     },
     "output_type": "display_data"
    }
   ],
   "source": [
    "plt.contourf(x, y, Z, 50, alpha=0.5, cmap=plt.get_cmap('jet'))  # 填充等高线\n",
    "plt.plot([-188.4], [2.67], 'x', ms=12, mew=3, color=\"orange\")\n",
    "plt.plot(b_history, w_history, 'o-', ms=3, lw=1.5, color='black')\n",
    "plt.xlim(-200, -100)\n",
    "plt.ylim(-5, 5)\n",
    "plt.xlabel(r'$b$')\n",
    "plt.ylabel(r'$w$')\n",
    "plt.title(\"线性回归\")\n",
    "plt.show()"
   ]
  },
  {
   "cell_type": "code",
   "execution_count": 24,
   "metadata": {},
   "outputs": [],
   "source": [
    "b = -120\n",
    "w = -4\n",
    "lr = 1\n",
    "iteration = 100000\n",
    "\n",
    "b_history = [b]\n",
    "w_history = [w]\n",
    "\n",
    "lr_b=0\n",
    "lr_w=0\n",
    "import time\n",
    "start = time.time()\n",
    "for i in range(iteration):\n",
    "    b_grad=0.0\n",
    "    w_grad=0.0\n",
    "    for n in range(len(x_data)):\n",
    "        b_grad=b_grad-2.0*(y_data[n]-n-w*x_data[n])*1.0\n",
    "        w_grad= w_grad-2.0*(y_data[n]-n-w*x_data[n])*x_data[n]\n",
    "\n",
    "    lr_b=lr_b+b_grad**2\n",
    "    lr_w=lr_w+w_grad**2\n",
    "    # update param\n",
    "    b -= lr/np.sqrt(lr_b) * b_grad\n",
    "    w -= lr /np.sqrt(lr_w) * w_grad\n",
    "\n",
    "    b_history.append(b)\n",
    "    w_history.append(w)"
   ]
  },
  {
   "cell_type": "code",
   "execution_count": 23,
   "metadata": {},
   "outputs": [
    {
     "data": {
      "image/png": "[encoded data removed]",
      "text/plain": [
       "<Figure size 432x288 with 1 Axes>"
      ]
     },
     "metadata": {
      "needs_background": "light"
     },
     "output_type": "display_data"
    }
   ],
   "source": [
    "plt.contourf(x, y, Z, 50, alpha=0.5, cmap=plt.get_cmap('jet'))  # 填充等高线\n",
    "plt.plot([-188.4], [2.67], 'x', ms=12, mew=3, color=\"orange\")\n",
    "plt.plot(b_history, w_history, 'o-', ms=3, lw=1.5, color='black')\n",
    "plt.xlim(-200, -100)\n",
    "plt.ylim(-5, 5)\n",
    "plt.xlabel(r'$b$')\n",
    "plt.ylabel(r'$w$')\n",
    "plt.title(\"线性回归\")\n",
    "plt.show()"
   ]
  },
  {
   "cell_type": "code",
   "execution_count": null,
   "metadata": {},
   "outputs": [],
   "source": []
  }
 ],
 "metadata": {
  "kernelspec": {
   "display_name": "Python 3",
   "language": "python",
   "name": "python3"
  },
  "language_info": {
   "codemirror_mode": {
    "name": "ipython",
    "version": 3
   },
   "file_extension": ".py",
   "mimetype": "text/x-python",
   "name": "python",
   "nbconvert_exporter": "python",
   "pygments_lexer": "ipython3",
   "version": "3.7.4"
  }
 },
 "nbformat": 4,
 "nbformat_minor": 2
}
